{
 "cells": [
  {
   "cell_type": "markdown",
   "metadata": {},
   "source": [
    "线性回归问题\n",
    "- 适用场景\n",
    "- 线性回归的假设\n",
    "- 线性回归的预处理：数值型数据 - 数据量大（变量无关 如何判断有关 如何无关 ） - 数据正态（ 为什么要正态 如何判断是否正态 如何让其正态）\n",
    "- 损失函数是什么\n",
    "- 为什么线性回归使用的是平方差形式的损失函数\n",
    "- 如何评价（r2;adjusted r2; f-statistic; p-value; rmse; rse; mae; aic; bic）\n",
    "- 如何避免模型过度拟合\n",
    "- 为什么要用梯度下降"
   ]
  },
  {
   "cell_type": "markdown",
   "metadata": {},
   "source": []
  }
 ],
 "metadata": {
  "interpreter": {
   "hash": "38740d3277777e2cd7c6c2cc9d8addf5118fdf3f82b1b39231fd12aeac8aee8b"
  },
  "kernelspec": {
   "display_name": "Python 3.7.9 32-bit",
   "language": "python",
   "name": "python3"
  },
  "language_info": {
   "codemirror_mode": {
    "name": "ipython",
    "version": 3
   },
   "file_extension": ".py",
   "mimetype": "text/x-python",
   "name": "python",
   "nbconvert_exporter": "python",
   "pygments_lexer": "ipython3",
   "version": "3.7.9"
  },
  "orig_nbformat": 4
 },
 "nbformat": 4,
 "nbformat_minor": 2
}
