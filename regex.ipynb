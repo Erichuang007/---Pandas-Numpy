{
 "cells": [
  {
   "cell_type": "code",
   "execution_count": 1,
   "metadata": {},
   "outputs": [],
   "source": [
    "import re"
   ]
  },
  {
   "cell_type": "markdown",
   "metadata": {},
   "source": [
    "https://blog.csdn.net/lxcnn/article/details/4304651"
   ]
  },
  {
   "cell_type": "markdown",
   "metadata": {},
   "source": [
    "https://www.runoob.com/regexp/regexp-metachar.html"
   ]
  },
  {
   "cell_type": "markdown",
   "metadata": {},
   "source": [
    "POSIX NFA主要指符合POSIX标准的NFA引擎，它的特点主要是提供longest-leftmost匹配，也就是在找到最左侧最长匹配之前，它将继续回溯。\n",
    "\n",
    "- 如何写正则:\n",
    "- 首先判断哪些是占有优先量词；哪些是忽略优化量词；环视(Lookaround） => 占有字符和零宽度(占有字符是互斥的，零宽度是非互斥的)[主要目的：判断哪些控制字符，哪些控制位置，控制权和传动是如何的]\n",
    "- 然后判断正则的执行顺序（转义符- 圆括号和方括号- 限定符- 位置和顺序-  “或”操作）\n",
    "- 然后利用元字符把模式写出来 => 然后用re.compile（）把模式进行编译 => 最后进行findall/match/search查找。"
   ]
  },
  {
   "cell_type": "markdown",
   "metadata": {},
   "source": [
    "占有字符和零宽度\n",
    "- 正则表达式匹配过程中，如果子表达式匹配到的是字符内容，而非位置，并被保存到最终的匹配结果中，那么就认为这个子表达式是占有字符的；如果子表达式匹配的仅仅是位置，或者匹配的内容并不保存到最终的匹配结果中，那么就认为这个子表达式是零宽度的。\n",
    "- 占有字符是互斥的，零宽度是非互斥的。也就是一个字符，同一时间只能由一个子表达式匹配，而一个位置，却可以同时由多个零宽度的子表达式匹配。"
   ]
  },
  {
   "cell_type": "markdown",
   "metadata": {},
   "source": [
    "在构造正则表达式之后，就可以象数学表达式一样来求值，也就是说，可以从左至右并按照一个优先级顺序来求值。下表从最高优先级到最低优先级列出各种正则表达式操作符的优先级顺序：\n",
    "\n",
    "- 操作符\t                    描述\n",
    "- /\t                            转义符\n",
    "- (), (?:), (?=), []\t        圆括号和方括号\n",
    "- *, +, ?, {n}, {n,}, {n,m}\t    限定符\n",
    "- ^, $, /anymetacharacter\t    位置和顺序\n",
    "- |\t                            “或”操作"
   ]
  },
  {
   "cell_type": "markdown",
   "metadata": {},
   "source": [
    "正则表达式可以包含一些可选标志修饰符来控制匹配的模式。修饰符被指定为一个可选的标志。多个标志可以通过按位 OR(|) 它们来指定。如 re.I | re.M 被设置成 I 和 M 标志：\n",
    "\n",
    "修饰符\t描述\n",
    "- re.I\t使匹配对大小写不敏感\n",
    "- re.L\t做本地化识别（locale-aware）匹配\n",
    "- re.M\t多行匹配，影响 ^ 和 $\n",
    "- re.S\t使 . 匹配包括换行在内的所有字符\n",
    "- re.U\t根据Unicode字符集解析字符。这个标志影响 \\w, \\W, \\b, \\B.\n",
    "- re.X\t该标志通过给予你更灵活的格式以便你将正则表达式写得更易于理解"
   ]
  },
  {
   "cell_type": "markdown",
   "metadata": {},
   "source": [
    "- [ABC]\t匹配 [...] 中的所有字符\n",
    "- [^ABC]\t匹配除了 [...] 中字符的所有字符\n",
    "- [A-Z]\t[A-Z] 表示一个区间，匹配所有大写字母，[a-z] 表示所有小写字母\n",
    "- .\t匹配除换行符（\\n、\\r）之外的任何单个字符，相等于 [^\\n\\r]\n",
    "- [\\s\\S]\t匹配所有。\\s 是匹配所有空白符，包括换行，\\S 非空白符，包括换行\n",
    "- \\w\t匹配字母、数字、下划线。等价于 [A-Za-z0-9_]\n",
    "- \\d 匹配数字。 \\D 代表非数字\n",
    "- \\n\t匹配一个换行符。等价于 \\x0a 和 \\cJ\n",
    "- \\r\t匹配一个回车符。等价于 \\x0d 和 \\cM\n",
    "- \\b 是正则表达式规定的一个特殊代码（元字符，metacharacter），代表着单词的开头或结尾，也就是单词的分界处。\n",
    "- \\\t转义\n",
    "- $\t匹配前面的子表达式零次或多次。要匹配 * 字符，请使用 \\*\n",
    "- \\+\t匹配前面的子表达式一次或多次。要匹配 + 字符，请使用 \\+\n",
    "- ^\t匹配输入字符串的开始位置，除非在方括号表达式中使用，当该符号在方括号表达式中使用时，表示不接受该方括号表达式中的字符集合\n",
    "- ?\t匹配前面的子表达式零次或一次\n",
    "- \\*\t匹配前面的子表达式零次或多次"
   ]
  },
  {
   "cell_type": "code",
   "execution_count": 38,
   "metadata": {},
   "outputs": [
    {
     "data": {
      "text/plain": [
       "['83', '123412', '24132', '47321']"
      ]
     },
     "execution_count": 38,
     "metadata": {},
     "output_type": "execute_result"
    }
   ],
   "source": [
    "string = \"83gyg123412.24132b47321%#\\eyvuds\"\n",
    "#提取数字[a-z]+([0-9]+)\\.([0-9]+)%#\\\\[a-z]+\n",
    "pattern = r'[0-9]+'\n",
    "regex = re.compile(pattern, flags=re.IGNORECASE)\n",
    "regex.findall(string)"
   ]
  },
  {
   "cell_type": "code",
   "execution_count": 52,
   "metadata": {},
   "outputs": [
    {
     "name": "stdout",
     "output_type": "stream",
     "text": [
      "['12 3']\n"
     ]
    }
   ],
   "source": [
    "s = '12 34/n56 78/n90'\n",
    "print(re.findall( r'^\\d+\\s+\\d', s,re.M)) "
   ]
  },
  {
   "cell_type": "code",
   "execution_count": 30,
   "metadata": {},
   "outputs": [
    {
     "name": "stdout",
     "output_type": "stream",
     "text": [
      "['a']\n"
     ]
    }
   ],
   "source": [
    "res = re.findall(r\"A\", \"abc\", re.I)\n",
    "print(res)"
   ]
  },
  {
   "cell_type": "code",
   "execution_count": 34,
   "metadata": {},
   "outputs": [
    {
     "name": "stdout",
     "output_type": "stream",
     "text": [
      "['a nice']\n"
     ]
    }
   ],
   "source": [
    "k =  \"It's a nice day today.\"\n",
    "print(re.findall(r\"a\\b.\\bnice\", k, re.I))"
   ]
  },
  {
   "cell_type": "code",
   "execution_count": 58,
   "metadata": {},
   "outputs": [
    {
     "data": {
      "text/plain": [
       "['er']"
      ]
     },
     "execution_count": 58,
     "metadata": {},
     "output_type": "execute_result"
    }
   ],
   "source": [
    "j = \"never\"\n",
    "pattern = r'er\\b'\n",
    "re.findall(pattern, j)"
   ]
  },
  {
   "cell_type": "code",
   "execution_count": 70,
   "metadata": {},
   "outputs": [
    {
     "data": {
      "text/plain": [
       "['311test121@run1oob.cow222']"
      ]
     },
     "execution_count": 70,
     "metadata": {},
     "output_type": "execute_result"
    }
   ],
   "source": [
    "l = \"abcd 231 tt 311test121@run1oob.cow22233m 1234\"\n",
    "patt1 = r'[\\w]+@[\\w.-]+\\.[a-zA-Z0-9]{2,6}'\n",
    "re.findall(patt1, l, re.S)"
   ]
  }
 ],
 "metadata": {
  "interpreter": {
   "hash": "38740d3277777e2cd7c6c2cc9d8addf5118fdf3f82b1b39231fd12aeac8aee8b"
  },
  "kernelspec": {
   "display_name": "Python 3.7.9 32-bit",
   "language": "python",
   "name": "python3"
  },
  "language_info": {
   "codemirror_mode": {
    "name": "ipython",
    "version": 3
   },
   "file_extension": ".py",
   "mimetype": "text/x-python",
   "name": "python",
   "nbconvert_exporter": "python",
   "pygments_lexer": "ipython3",
   "version": "3.7.9"
  },
  "orig_nbformat": 4
 },
 "nbformat": 4,
 "nbformat_minor": 2
}
